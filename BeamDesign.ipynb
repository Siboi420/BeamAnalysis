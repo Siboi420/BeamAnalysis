{
 "cells": [
  {
   "cell_type": "code",
   "execution_count": 41,
   "metadata": {},
   "outputs": [],
   "source": [
    "import numpy as np\n",
    "from Functions import *"
   ]
  },
  {
   "cell_type": "markdown",
   "metadata": {},
   "source": [
    "# Beam Design\n",
    "## Element Data\n",
    "### Structural Materials"
   ]
  },
  {
   "cell_type": "code",
   "execution_count": 42,
   "metadata": {},
   "outputs": [],
   "source": [
    "f_c = 40.0\n",
    "f_yl = 420.0\n",
    "f_yt = 280.0\n",
    "epsilon_y = f_yl/2e5"
   ]
  },
  {
   "cell_type": "markdown",
   "metadata": {},
   "source": [
    "### Beam Geometry"
   ]
  },
  {
   "cell_type": "code",
   "execution_count": 43,
   "metadata": {},
   "outputs": [],
   "source": [
    "b = 500.0\n",
    "h = 700.0\n",
    "p = 40.0\n",
    "dl = 19.0\n",
    "dt = 10.0"
   ]
  },
  {
   "cell_type": "markdown",
   "metadata": {},
   "source": [
    "## Beam Reinforcement Calculation\n",
    "### Internal Forces"
   ]
  },
  {
   "cell_type": "code",
   "execution_count": 44,
   "metadata": {},
   "outputs": [],
   "source": [
    "M_ue = 400.0"
   ]
  },
  {
   "cell_type": "markdown",
   "metadata": {},
   "source": [
    "### Flexular Reinforcement Calculation"
   ]
  },
  {
   "cell_type": "code",
   "execution_count": 45,
   "metadata": {},
   "outputs": [],
   "source": [
    "if f_c <= 28:\n",
    "    beta_1 = 0.85\n",
    "elif f_c > 28:\n",
    "    beta_1 = 0.85-(0.05*(f_c-28)/7)\n",
    "\n",
    "y = dl + 25\n",
    "d = h-(p + dt + dl/2)\n",
    "d_prime = (p+dt+dl/2)\n",
    "\n",
    "A_smin1 = 0.25 * np.sqrt(f_c) / f_yl * b * d\n",
    "A_smin2 = 1.4/f_yl *b *d\n",
    "A_smin = min(A_smin1, A_smin2)\n",
    "n_min = np.ceil(A_smin * 4 / (np.pi * dl**2))\n",
    " \n",
    "rho_bal = (0.85*beta_1*f_c/f_yl)*(600/(600+f_yl))\n",
    "rho_max = 0.75*rho_bal\n",
    "A_smax = rho_max * b * d\n",
    "rho_min = A_smin/(b * d)\n"
   ]
  },
  {
   "cell_type": "markdown",
   "metadata": {},
   "source": [
    "### End Moment Reinforcement"
   ]
  },
  {
   "cell_type": "code",
   "execution_count": null,
   "metadata": {},
   "outputs": [
    {
     "name": "stdout",
     "output_type": "stream",
     "text": [
      "None\n"
     ]
    }
   ],
   "source": [
    "A_s = 0.85 * f_c * b / f_yl * (d - np.sqrt(d**2 - (2*M_ue*1e6/0.9)/(0.85*f_c*b)))\n",
    "\n",
    "a = A_s * f_yl / (0.85*f_c*b)\n",
    "c1 = a/beta_1\n",
    "epsilon_s = ((d-c1) / c1) *0.003\n",
    "\n",
    "if A_s < A_smin:\n",
    "    A_s = A_smin\n",
    "elif A_s > A_smin:\n",
    "    A_s = A_s\n",
    "\n",
    "if epsilon_s > epsilon_y + 0.003:\n",
    "    phi = 0.9\n",
    "elif epsilon_s < epsilon_y + 0.003 and epsilon_s > epsilon_y:\n",
    "    phi = 0.65+0.25*(epsilon_s-epsilon_y)/0.003\n",
    "elif epsilon_s <= epsilon_y:\n",
    "    phi = 0.65\n",
    "\n",
    "print(phi)\n",
    "\n",
    "n = np.ceil(A_s * 4 / (np.pi * dl**2))\n",
    "A_suse = n * np.pi * dl**2 * 0.25\n",
    "\n",
    "\n",
    "\n"
   ]
  },
  {
   "cell_type": "code",
   "execution_count": 47,
   "metadata": {},
   "outputs": [
    {
     "name": "stdout",
     "output_type": "stream",
     "text": [
      "45.97804664040814\n"
     ]
    }
   ],
   "source": [
    "c = 1\n",
    "\n",
    "utilisation = CheckBeamDouble(\n",
    "    c = c,\n",
    "    d_prime = d_prime,\n",
    "    f_yl = f_yl,\n",
    "    f_c = f_c,\n",
    "    A_s = A_suse,\n",
    "    A_smin = A_smin,\n",
    "    b = b,\n",
    "    beta_1 = beta_1)\n",
    "\n",
    "print(utilisation)\n"
   ]
  },
  {
   "cell_type": "code",
   "execution_count": 48,
   "metadata": {},
   "outputs": [
    {
     "name": "stdout",
     "output_type": "stream",
     "text": [
      "With the value of c = 63, the difference of (Cs + Cc) and T is 1.89%\n"
     ]
    }
   ],
   "source": [
    "c = 1\n",
    "while utilisation > 0.03:\n",
    "    c += 1\n",
    "    utilisation = CheckBeamDouble(\n",
    "    c = c,\n",
    "    d_prime = d_prime,\n",
    "    f_yl = f_yl,\n",
    "    f_c = f_c,\n",
    "    A_s = A_suse,\n",
    "    A_smin = A_smin,\n",
    "    b = b,\n",
    "    beta_1 = beta_1)\n",
    "    if utilisation < 0.03:\n",
    "        print(f\"With the value of c = {c}, the difference of (Cs + Cc) and T is {utilisation*100:0.2f}%\")\n",
    "        c\n"
   ]
  },
  {
   "cell_type": "code",
   "execution_count": 49,
   "metadata": {},
   "outputs": [
    {
     "name": "stdout",
     "output_type": "stream",
     "text": [
      "453.41954180855566 7.0\n"
     ]
    }
   ],
   "source": [
    "beamDesign = CheckBeamDesign(\n",
    "    c = c,\n",
    "    f_yl = f_yl,\n",
    "    f_c = f_c,\n",
    "    A_s = A_suse,\n",
    "    A_smin = A_smin,\n",
    "    b = b,\n",
    "    h = h,\n",
    "    dl = dl,\n",
    "    dt = dt,\n",
    "    cover = p,\n",
    "    beta_1 = beta_1)\n",
    "\n",
    "print(beamDesign*0.9/1e6, n)"
   ]
  },
  {
   "cell_type": "code",
   "execution_count": null,
   "metadata": {},
   "outputs": [],
   "source": []
  }
 ],
 "metadata": {
  "kernelspec": {
   "display_name": "base",
   "language": "python",
   "name": "python3"
  },
  "language_info": {
   "codemirror_mode": {
    "name": "ipython",
    "version": 3
   },
   "file_extension": ".py",
   "mimetype": "text/x-python",
   "name": "python",
   "nbconvert_exporter": "python",
   "pygments_lexer": "ipython3",
   "version": "3.12.7"
  }
 },
 "nbformat": 4,
 "nbformat_minor": 2
}
